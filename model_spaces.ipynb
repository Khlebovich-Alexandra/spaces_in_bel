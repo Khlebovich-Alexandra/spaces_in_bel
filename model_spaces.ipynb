{
 "cells": [
  {
   "cell_type": "code",
   "execution_count": 1,
   "metadata": {
    "colab": {
     "base_uri": "https://localhost:8080/",
     "height": 51
    },
    "colab_type": "code",
    "id": "n7h99aLGCphg",
    "outputId": "7a159b65-1bc2-4f6b-b86a-b107b6a32a87"
   },
   "outputs": [
    {
     "name": "stdout",
     "output_type": "stream",
     "text": [
      "Requirement already satisfied: nltk in /usr/local/lib/python3.6/dist-packages (3.2.5)\n",
      "Requirement already satisfied: six in /usr/local/lib/python3.6/dist-packages (from nltk) (1.12.0)\n"
     ]
    }
   ],
   "source": [
    "!pip install nltk"
   ]
  },
  {
   "cell_type": "code",
   "execution_count": 2,
   "metadata": {
    "colab": {
     "base_uri": "https://localhost:8080/",
     "height": 122
    },
    "colab_type": "code",
    "id": "0Gl6b-zMC2n4",
    "outputId": "8b64b367-d5aa-40c7-8ea6-7d7de47ecb06"
   },
   "outputs": [
    {
     "name": "stdout",
     "output_type": "stream",
     "text": [
      "Go to this URL in a browser: https://accounts.google.com/o/oauth2/auth?client_id=947318989803-6bn6qk8qdgf4n4g3pfee6491hc0brc4i.apps.googleusercontent.com&redirect_uri=urn%3aietf%3awg%3aoauth%3a2.0%3aoob&response_type=code&scope=email%20https%3a%2f%2fwww.googleapis.com%2fauth%2fdocs.test%20https%3a%2f%2fwww.googleapis.com%2fauth%2fdrive%20https%3a%2f%2fwww.googleapis.com%2fauth%2fdrive.photos.readonly%20https%3a%2f%2fwww.googleapis.com%2fauth%2fpeopleapi.readonly\n",
      "\n",
      "Enter your authorization code:\n",
      "··········\n",
      "Mounted at /content/drive\n"
     ]
    }
   ],
   "source": [
    "from google.colab import drive\n",
    "drive.mount('/content/drive')"
   ]
  },
  {
   "cell_type": "code",
   "execution_count": null,
   "metadata": {
    "colab": {},
    "colab_type": "code",
    "id": "g_gvFw2r-RgD"
   },
   "outputs": [],
   "source": [
    "import os\n",
    "from nltk import ngrams\n",
    "from sklearn.utils import shuffle\n",
    "import numpy as np\n",
    "import tensorflow as tf"
   ]
  },
  {
   "cell_type": "code",
   "execution_count": null,
   "metadata": {
    "colab": {},
    "colab_type": "code",
    "id": "s62PB41cDEtb"
   },
   "outputs": [],
   "source": [
    "with open('/content/drive/My Drive/train-bel-clear.txt', mode='r', encoding='utf-8') as f:\n",
    "    text = f.read()"
   ]
  },
  {
   "cell_type": "code",
   "execution_count": null,
   "metadata": {
    "colab": {},
    "colab_type": "code",
    "id": "2I0NaFs9Si9o"
   },
   "outputs": [],
   "source": [
    "text = '\\n'.join(shuffle(text.split('\\n'), random_state=20))"
   ]
  },
  {
   "cell_type": "code",
   "execution_count": 8,
   "metadata": {
    "colab": {
     "base_uri": "https://localhost:8080/",
     "height": 51
    },
    "colab_type": "code",
    "id": "MjnWHjPzEghW",
    "outputId": "88c41238-f9b9-42fa-e264-e957f9f186aa"
   },
   "outputs": [
    {
     "name": "stdout",
     "output_type": "stream",
     "text": [
      "CPU times: user 21.3 s, sys: 1.81 s, total: 23.1 s\n",
      "Wall time: 23.1 s\n"
     ]
    }
   ],
   "source": [
    "%%time \n",
    "y = [1 if next_char==' ' else 0 for cur_char, next_char in zip(text[:-1], text[1:]) if cur_char != ' ']"
   ]
  },
  {
   "cell_type": "code",
   "execution_count": 9,
   "metadata": {
    "colab": {
     "base_uri": "https://localhost:8080/",
     "height": 34
    },
    "colab_type": "code",
    "id": "C-BZo_Nwlfpc",
    "outputId": "64c30211-587e-4952-b9ff-2374768efb35"
   },
   "outputs": [
    {
     "data": {
      "text/plain": [
       "'\\n'"
      ]
     },
     "execution_count": 9,
     "metadata": {
      "tags": []
     },
     "output_type": "execute_result"
    }
   ],
   "source": [
    "border = int(len(x) * 0.7)\n",
    "border += x[border:].find('\\n')\n",
    "x[border]"
   ]
  },
  {
   "cell_type": "code",
   "execution_count": null,
   "metadata": {
    "colab": {},
    "colab_type": "code",
    "id": "-3gfUi0ptsUs"
   },
   "outputs": [],
   "source": [
    "text_train, text_test = x[:border], x[border+1:]\n",
    "y_train, y_test = y[:border-1], y[border+1:]"
   ]
  },
  {
   "cell_type": "code",
   "execution_count": null,
   "metadata": {
    "colab": {},
    "colab_type": "code",
    "id": "1KqExwT48VC1"
   },
   "outputs": [],
   "source": [
    "split_num = 0.01\n",
    "split_len = 100\n",
    "borders = [int(len(text_train) * split_num * i) for i in range(1, split_len)]\n",
    "borders = [0] + [border + text_train[border:].find('\\n') \n",
    "                                    for border in borders] + [len(text_train)+1]\n",
    "text_list = [text_train[border_l:border_r]\n",
    "             for border_l, border_r in zip(borders[:-1], borders[1:])]\n",
    "y_list = [y_train[border_l:border_r]\n",
    "             for border_l, border_r in zip(borders[:-1], borders[1:])]"
   ]
  },
  {
   "cell_type": "code",
   "execution_count": 12,
   "metadata": {
    "colab": {
     "base_uri": "https://localhost:8080/",
     "height": 187
    },
    "colab_type": "code",
    "id": "_W4TE6GL90-T",
    "outputId": "fd354824-d712-4576-e222-50cf162aed1a"
   },
   "outputs": [
    {
     "data": {
      "text/plain": [
       "[0,\n",
       " 978289,\n",
       " 1956171,\n",
       " 2934373,\n",
       " 3912474,\n",
       " 4890484,\n",
       " 5868493,\n",
       " 6846789,\n",
       " 7824646,\n",
       " 8802715]"
      ]
     },
     "execution_count": 12,
     "metadata": {
      "tags": []
     },
     "output_type": "execute_result"
    }
   ],
   "source": [
    "borders[:10]"
   ]
  },
  {
   "cell_type": "code",
   "execution_count": 13,
   "metadata": {
    "colab": {
     "base_uri": "https://localhost:8080/",
     "height": 34
    },
    "colab_type": "code",
    "id": "QmzBWgupk9GH",
    "outputId": "e6bb9baf-aef8-4745-e771-ed4ddbc06f8c"
   },
   "outputs": [
    {
     "name": "stdout",
     "output_type": "stream",
     "text": [
      "348 unique characters\n"
     ]
    }
   ],
   "source": [
    "vocab = sorted(set(text_train))\n",
    "print ('{} unique characters'.format(len(vocab)))"
   ]
  },
  {
   "cell_type": "code",
   "execution_count": 14,
   "metadata": {
    "colab": {
     "base_uri": "https://localhost:8080/",
     "height": 51
    },
    "colab_type": "code",
    "id": "gbHG1FUfftJd",
    "outputId": "02d566f1-9967-4c16-dbd4-780ddb478acd"
   },
   "outputs": [
    {
     "name": "stdout",
     "output_type": "stream",
     "text": [
      "CPU times: user 27.6 s, sys: 492 ms, total: 28 s\n",
      "Wall time: 28.1 s\n"
     ]
    }
   ],
   "source": [
    "\n",
    "\n",
    "%%time\n",
    "# Creating a mapping from unique characters to indices\n",
    "char2idx = {u:i for i, u in enumerate(vocab)}\n",
    "idx2char = np.array(vocab)\n",
    "\n",
    "text_list = [[char2idx.get(c) for c in part] for part in text_list] \n",
    "text_test = [char2idx.get(c, len(vocab)) for c in text_test]"
   ]
  },
  {
   "cell_type": "code",
   "execution_count": 15,
   "metadata": {
    "colab": {
     "base_uri": "https://localhost:8080/",
     "height": 34
    },
    "colab_type": "code",
    "id": "1cZmOo4bgXA_",
    "outputId": "0bdafd70-519f-4f2a-a870-aea452c482c3"
   },
   "outputs": [
    {
     "data": {
      "text/plain": [
       "[233, 263, 274, 255, 272, 252, 274, 260, 265, 266]"
      ]
     },
     "execution_count": 15,
     "metadata": {
      "tags": []
     },
     "output_type": "execute_result"
    }
   ],
   "source": [
    "text_list[0][:10]"
   ]
  },
  {
   "cell_type": "code",
   "execution_count": null,
   "metadata": {
    "colab": {},
    "colab_type": "code",
    "id": "LUq7ryBRidWP"
   },
   "outputs": [],
   "source": [
    "BATCH_SIZE = 16\n",
    "\n",
    "def get_preproc(df, batch=BATCH_SIZE):\n",
    "    df = df.batch(BATCH_SIZE, drop_remainder=True)\n",
    "    return df"
   ]
  },
  {
   "cell_type": "code",
   "execution_count": null,
   "metadata": {
    "colab": {},
    "colab_type": "code",
    "id": "jT-4R3cA17zc"
   },
   "outputs": [],
   "source": [
    "# LENGTH = 15\n",
    "# shape = ((LENGTH, 1), (LENGTH-1, 1))\n",
    "# gen_dataset = ((np.array(x_i).reshape(LENGTH, 1), np.array(y_i).reshape(LENGTH-1, 1) \n",
    "#                 for x_i, y_i in zip(ngrams(text_train, LENGTH), ngrams(y_train, LENGTH-1))) \n",
    "# df = tf.data.Dataset.from_generator(generator=lambda: gen_dataset,\n",
    "#                                    output_types=(tf.int16, tf.int8),\n",
    "#                                     output_shapes=shape)"
   ]
  },
  {
   "cell_type": "code",
   "execution_count": 32,
   "metadata": {
    "colab": {
     "base_uri": "https://localhost:8080/",
     "height": 51
    },
    "colab_type": "code",
    "id": "j8oL36f-Ewif",
    "outputId": "31a2d728-cb44-401d-a8d9-f8ac665923b6"
   },
   "outputs": [
    {
     "name": "stdout",
     "output_type": "stream",
     "text": [
      "CPU times: user 1min 2s, sys: 572 ms, total: 1min 2s\n",
      "Wall time: 1min 2s\n"
     ]
    }
   ],
   "source": [
    "%%time\n",
    "LENGTH = 15\n",
    "gen_list = [((list(x_i), y_i) for x_i, y_i in \n",
    "                        zip(ngrams(part_x, LENGTH), part_y[LENGTH-1:])) \n",
    "            for part_x, part_y in zip(text_list, y_list)\n",
    "]\n",
    "# df_list = [tf.data.Dataset.from_generator(generator=lambda: gen_dataset,\n",
    "#                                           output_types=(tf.int16, tf.int8),\n",
    "#                                           output_shapes=((LENGTH,), ()))\n",
    "#             for gen_dataset in gen_list\n",
    "# ]\n",
    "ngrams_1 = list(map(list, list(ngrams(text_list[0], LENGTH))))\n",
    "df_1 = tf.data.Dataset.from_tensor_slices((ngrams_1, y_list[0][LENGTH-1:]))\n",
    "df_1"
   ]
  },
  {
   "cell_type": "code",
   "execution_count": 33,
   "metadata": {
    "colab": {
     "base_uri": "https://localhost:8080/",
     "height": 34
    },
    "colab_type": "code",
    "id": "TjtBVuBymawc",
    "outputId": "b046b1e2-6ec7-4d20-e1fb-084f05477caa"
   },
   "outputs": [
    {
     "data": {
      "text/plain": [
       "<TensorSliceDataset shapes: ((15,), ()), types: (tf.int32, tf.int32)>"
      ]
     },
     "execution_count": 33,
     "metadata": {
      "tags": []
     },
     "output_type": "execute_result"
    }
   ],
   "source": [
    "df_1"
   ]
  },
  {
   "cell_type": "code",
   "execution_count": null,
   "metadata": {
    "colab": {},
    "colab_type": "code",
    "id": "_3FuVXC5QZAi"
   },
   "outputs": [],
   "source": [
    "# df_list = list(map(get_preproc, df_list))\n",
    "# df_list[0]"
   ]
  },
  {
   "cell_type": "code",
   "execution_count": null,
   "metadata": {
    "colab": {},
    "colab_type": "code",
    "id": "SxLgDIJ7DcEC"
   },
   "outputs": [],
   "source": [
    "# list(df_list[0].take(1).as_numpy_iterator())"
   ]
  },
  {
   "cell_type": "code",
   "execution_count": 36,
   "metadata": {
    "colab": {
     "base_uri": "https://localhost:8080/",
     "height": 34
    },
    "colab_type": "code",
    "id": "IanxUNWzjReC",
    "outputId": "a0ffd809-3f9a-4fd7-96e6-f64566bd8382"
   },
   "outputs": [
    {
     "data": {
      "text/plain": [
       "<BatchDataset shapes: ((16, 15), (16,)), types: (tf.int32, tf.int32)>"
      ]
     },
     "execution_count": 36,
     "metadata": {
      "tags": []
     },
     "output_type": "execute_result"
    }
   ],
   "source": [
    "df_1 = get_preproc(df_1)\n",
    "df_1"
   ]
  },
  {
   "cell_type": "code",
   "execution_count": 48,
   "metadata": {
    "colab": {
     "base_uri": "https://localhost:8080/",
     "height": 578
    },
    "colab_type": "code",
    "id": "-mI_QPzXjpSD",
    "outputId": "c9ea6fd2-a856-45e9-924b-9631f6e3bdb0"
   },
   "outputs": [
    {
     "data": {
      "text/plain": [
       "[(array([[233, 263, 274, 255, 272, 252, 274, 260, 265, 266, 226, 242, 219,\n",
       "          220, 248],\n",
       "         [263, 274, 255, 272, 252, 274, 260, 265, 266, 226, 242, 219, 220,\n",
       "          248, 263],\n",
       "         [274, 255, 272, 252, 274, 260, 265, 266, 226, 242, 219, 220, 248,\n",
       "          263, 248],\n",
       "         [255, 272, 252, 274, 260, 265, 266, 226, 242, 219, 220, 248, 263,\n",
       "          248, 257],\n",
       "         [272, 252, 274, 260, 265, 266, 226, 242, 219, 220, 248, 263, 248,\n",
       "          257, 266],\n",
       "         [252, 274, 260, 265, 266, 226, 242, 219, 220, 248, 263, 248, 257,\n",
       "          266, 219],\n",
       "         [274, 260, 265, 266, 226, 242, 219, 220, 248, 263, 248, 257, 266,\n",
       "          219, 249],\n",
       "         [260, 265, 266, 226, 242, 219, 220, 248, 263, 248, 257, 266, 219,\n",
       "          249, 248],\n",
       "         [265, 266, 226, 242, 219, 220, 248, 263, 248, 257, 266, 219, 249,\n",
       "          248, 259],\n",
       "         [266, 226, 242, 219, 220, 248, 263, 248, 257, 266, 219, 249, 248,\n",
       "          259, 266],\n",
       "         [226, 242, 219, 220, 248, 263, 248, 257, 266, 219, 249, 248, 259,\n",
       "          266, 252],\n",
       "         [242, 219, 220, 248, 263, 248, 257, 266, 219, 249, 248, 259, 266,\n",
       "          252, 248],\n",
       "         [219, 220, 248, 263, 248, 257, 266, 219, 249, 248, 259, 266, 252,\n",
       "          248, 257],\n",
       "         [220, 248, 263, 248, 257, 266, 219, 249, 248, 259, 266, 252, 248,\n",
       "          257, 258],\n",
       "         [248, 263, 248, 257, 266, 219, 249, 248, 259, 266, 252, 248, 257,\n",
       "          258, 248],\n",
       "         [263, 248, 257, 266, 219, 249, 248, 259, 266, 252, 248, 257, 258,\n",
       "          248, 258]], dtype=int32),\n",
       "  array([0, 0, 0, 0, 1, 0, 0, 0, 0, 1, 0, 0, 0, 0, 0, 0], dtype=int32))]"
      ]
     },
     "execution_count": 48,
     "metadata": {
      "tags": []
     },
     "output_type": "execute_result"
    }
   ],
   "source": [
    "list(df_1.take(1).as_numpy_iterator())"
   ]
  },
  {
   "cell_type": "code",
   "execution_count": null,
   "metadata": {
    "colab": {},
    "colab_type": "code",
    "id": "UEPE8bXE1PFp"
   },
   "outputs": [],
   "source": [
    "def buid_model(batch):\n",
    "    vocab_size = len(vocab) + 1\n",
    "    model = tf.keras.Sequential([\n",
    "        tf.keras.layers.Embedding(input_dim=vocab_size, \n",
    "                                  output_dim=256,\n",
    "                                  batch_input_shape=[batch, None]),\n",
    "    tf.keras.layers.GRU(units=512,\n",
    "                        return_sequences=True,\n",
    "                        recurrent_initializer='glorot_uniform'),\n",
    "    tf.keras.layers.Dense(512, activation = 'relu'),\n",
    "    tf.keras.layers.GRU(units=128,\n",
    "                        return_sequences=True,\n",
    "                        recurrent_initializer='glorot_uniform'),\n",
    "    tf.keras.layers.Dropout(rate=0.05),\n",
    "    tf.keras.layers.Dense(1, activation='relu')])\n",
    "    return model"
   ]
  },
  {
   "cell_type": "code",
   "execution_count": 50,
   "metadata": {
    "colab": {
     "base_uri": "https://localhost:8080/",
     "height": 374
    },
    "colab_type": "code",
    "id": "XVgGmfbF8xOX",
    "outputId": "fa8fc318-100f-41d1-fca8-304665199276"
   },
   "outputs": [
    {
     "name": "stdout",
     "output_type": "stream",
     "text": [
      "Model: \"sequential_2\"\n",
      "_________________________________________________________________\n",
      "Layer (type)                 Output Shape              Param #   \n",
      "=================================================================\n",
      "embedding_2 (Embedding)      (16, None, 256)           89344     \n",
      "_________________________________________________________________\n",
      "gru_2 (GRU)                  (16, None, 512)           1182720   \n",
      "_________________________________________________________________\n",
      "dense_3 (Dense)              (16, None, 512)           262656    \n",
      "_________________________________________________________________\n",
      "gru_3 (GRU)                  (16, None, 128)           246528    \n",
      "_________________________________________________________________\n",
      "dropout_2 (Dropout)          (16, None, 128)           0         \n",
      "_________________________________________________________________\n",
      "dense_4 (Dense)              (16, None, 1)             129       \n",
      "=================================================================\n",
      "Total params: 1,781,377\n",
      "Trainable params: 1,781,377\n",
      "Non-trainable params: 0\n",
      "_________________________________________________________________\n",
      "None\n"
     ]
    }
   ],
   "source": [
    "model = buid_model(BATCH_SIZE)\n",
    "print(model.summary())"
   ]
  },
  {
   "cell_type": "code",
   "execution_count": null,
   "metadata": {
    "colab": {},
    "colab_type": "code",
    "id": "nXwVmbG4_5W0"
   },
   "outputs": [],
   "source": [
    "model.compile(optimizer='adam',\n",
    "              loss=tf.keras.losses.SparseCategoricalCrossentropy(from_logits=True))"
   ]
  },
  {
   "cell_type": "code",
   "execution_count": null,
   "metadata": {
    "colab": {},
    "colab_type": "code",
    "id": "KZdo6UrB_9au"
   },
   "outputs": [],
   "source": [
    "# Directory where the checkpoints will be saved\n",
    "checkpoint_dir = './training_checkpoints'\n",
    "# Name of the checkpoint files\n",
    "checkpoint_prefix = os.path.join(checkpoint_dir, \"ckpt_{epoch}\")\n",
    "\n",
    "checkpoint_callback=tf.keras.callbacks.ModelCheckpoint(\n",
    "    filepath=checkpoint_prefix,\n",
    "    save_weights_only=True,\n",
    "    verbose=0)"
   ]
  },
  {
   "cell_type": "code",
   "execution_count": 53,
   "metadata": {
    "colab": {
     "base_uri": "https://localhost:8080/",
     "height": 187
    },
    "colab_type": "code",
    "id": "F7-FsKerANpF",
    "outputId": "9034f640-2f24-4bfd-92b6-b54d8984c260"
   },
   "outputs": [
    {
     "name": "stdout",
     "output_type": "stream",
     "text": [
      "Epoch 1/5\n",
      "61142/61142 [==============================] - 448s 7ms/step - loss: 2.7081\n",
      "Epoch 2/5\n",
      "61142/61142 [==============================] - 444s 7ms/step - loss: 2.7081\n",
      "Epoch 3/5\n",
      "61142/61142 [==============================] - 445s 7ms/step - loss: 2.7081\n",
      "Epoch 4/5\n",
      "61142/61142 [==============================] - 471s 8ms/step - loss: 2.7081\n",
      "Epoch 5/5\n",
      "61142/61142 [==============================] - 476s 8ms/step - loss: 2.7081\n"
     ]
    }
   ],
   "source": [
    "EPOCH = 5\n",
    "history = model.fit(df_1,\n",
    "                    shuffle=False, \n",
    "                    epochs=EPOCH,\n",
    "                    callbacks=[checkpoint_callback])"
   ]
  },
  {
   "cell_type": "code",
   "execution_count": 54,
   "metadata": {
    "colab": {
     "base_uri": "https://localhost:8080/",
     "height": 34
    },
    "colab_type": "code",
    "id": "-C7_6LrtinFq",
    "outputId": "df4a00fb-d72f-4120-bde6-0b8a3d9f19aa"
   },
   "outputs": [
    {
     "name": "stdout",
     "output_type": "stream",
     "text": [
      "61142/61142 [==============================] - 196s 3ms/step\n"
     ]
    }
   ],
   "source": [
    "y_pred = model.predict(df_1,verbose=1)"
   ]
  },
  {
   "cell_type": "code",
   "execution_count": null,
   "metadata": {
    "colab": {
     "base_uri": "https://localhost:8080/",
     "height": 1000
    },
    "colab_type": "code",
    "id": "OiWrMwIPjJBK",
    "outputId": "a1261298-9273-42a9-ebc1-a04769095bf0"
   },
   "outputs": [],
   "source": [
    "y_pred[:10]"
   ]
  },
  {
   "cell_type": "code",
   "execution_count": null,
   "metadata": {
    "colab": {},
    "colab_type": "code",
    "id": "vBglH975gacV"
   },
   "outputs": [],
   "source": []
  }
 ],
 "metadata": {
  "accelerator": "GPU",
  "colab": {
   "collapsed_sections": [],
   "name": "model_spaces.ipynb",
   "provenance": []
  },
  "kernelspec": {
   "display_name": "Python 3",
   "language": "python",
   "name": "python3"
  },
  "language_info": {
   "codemirror_mode": {
    "name": "ipython",
    "version": 3
   },
   "file_extension": ".py",
   "mimetype": "text/x-python",
   "name": "python",
   "nbconvert_exporter": "python",
   "pygments_lexer": "ipython3",
   "version": "3.7.7"
  },
  "pycharm": {
   "stem_cell": {
    "cell_type": "raw",
    "source": [],
    "metadata": {
     "collapsed": false
    }
   }
  }
 },
 "nbformat": 4,
 "nbformat_minor": 4
}