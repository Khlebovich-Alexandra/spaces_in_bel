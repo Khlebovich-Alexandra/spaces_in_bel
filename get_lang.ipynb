{
 "cells": [
  {
   "cell_type": "code",
   "execution_count": 18,
   "metadata": {
    "colab": {
     "base_uri": "https://localhost:8080/",
     "height": 34
    },
    "colab_type": "code",
    "executionInfo": {
     "elapsed": 3653,
     "status": "ok",
     "timestamp": 1584822727836,
     "user": {
      "displayName": "Alexandra Khlebovich",
      "photoUrl": "https://lh3.googleusercontent.com/a-/AOh14GivMvqD0MMg3IT8E5RqA4m24eL8v7tneE0uVbAxtA=s64",
      "userId": "09477835356418883811"
     },
     "user_tz": -180
    },
    "id": "cBMDaTt4sB3W",
    "outputId": "35735aac-0f56-4bd3-e19e-76ae614a6c20"
   },
   "outputs": [
    {
     "name": "stdout",
     "output_type": "stream",
     "text": [
      "Requirement already satisfied: polyglot in /usr/local/lib/python3.6/dist-packages (16.7.4)\n"
     ]
    }
   ],
   "source": [
    "pip install polyglot"
   ]
  },
  {
   "cell_type": "code",
   "execution_count": 19,
   "metadata": {
    "colab": {
     "base_uri": "https://localhost:8080/",
     "height": 119
    },
    "colab_type": "code",
    "executionInfo": {
     "elapsed": 5067,
     "status": "ok",
     "timestamp": 1584822730381,
     "user": {
      "displayName": "Alexandra Khlebovich",
      "photoUrl": "https://lh3.googleusercontent.com/a-/AOh14GivMvqD0MMg3IT8E5RqA4m24eL8v7tneE0uVbAxtA=s64",
      "userId": "09477835356418883811"
     },
     "user_tz": -180
    },
    "id": "uwH8u900jH0M",
    "outputId": "24222e0b-7d1c-4527-fb86-57048f851544"
   },
   "outputs": [
    {
     "name": "stdout",
     "output_type": "stream",
     "text": [
      "Reading package lists... Done\n",
      "Building dependency tree       \n",
      "Reading state information... Done\n",
      "python-numpy is already the newest version (1:1.13.3-2ubuntu1).\n",
      "libicu-dev is already the newest version (60.2-3ubuntu3.1).\n",
      "0 upgraded, 0 newly installed, 0 to remove and 25 not upgraded.\n"
     ]
    }
   ],
   "source": [
    "!sudo apt-get install python-numpy libicu-dev"
   ]
  },
  {
   "cell_type": "code",
   "execution_count": 20,
   "metadata": {
    "colab": {
     "base_uri": "https://localhost:8080/",
     "height": 34
    },
    "colab_type": "code",
    "executionInfo": {
     "elapsed": 6490,
     "status": "ok",
     "timestamp": 1584822733343,
     "user": {
      "displayName": "Alexandra Khlebovich",
      "photoUrl": "https://lh3.googleusercontent.com/a-/AOh14GivMvqD0MMg3IT8E5RqA4m24eL8v7tneE0uVbAxtA=s64",
      "userId": "09477835356418883811"
     },
     "user_tz": -180
    },
    "id": "uMIOxiz4jbzo",
    "outputId": "9029088a-c449-4291-de26-23772018b821"
   },
   "outputs": [
    {
     "name": "stdout",
     "output_type": "stream",
     "text": [
      "Requirement already satisfied: pyicu in /usr/local/lib/python3.6/dist-packages (2.4.3)\n"
     ]
    }
   ],
   "source": [
    "pip install pyicu"
   ]
  },
  {
   "cell_type": "code",
   "execution_count": 21,
   "metadata": {
    "colab": {
     "base_uri": "https://localhost:8080/",
     "height": 34
    },
    "colab_type": "code",
    "executionInfo": {
     "elapsed": 7993,
     "status": "ok",
     "timestamp": 1584822736228,
     "user": {
      "displayName": "Alexandra Khlebovich",
      "photoUrl": "https://lh3.googleusercontent.com/a-/AOh14GivMvqD0MMg3IT8E5RqA4m24eL8v7tneE0uVbAxtA=s64",
      "userId": "09477835356418883811"
     },
     "user_tz": -180
    },
    "id": "x0JuTh5zjk_J",
    "outputId": "78d61dd8-91a1-458f-a167-a3aba6e42fe4"
   },
   "outputs": [
    {
     "name": "stdout",
     "output_type": "stream",
     "text": [
      "Requirement already satisfied: pycld2 in /usr/local/lib/python3.6/dist-packages (0.41)\n"
     ]
    }
   ],
   "source": [
    "pip install pycld2"
   ]
  },
  {
   "cell_type": "code",
   "execution_count": null,
   "metadata": {
    "colab": {
     "base_uri": "https://localhost:8080/",
     "height": 122
    },
    "colab_type": "code",
    "executionInfo": {
     "elapsed": 24956,
     "status": "ok",
     "timestamp": 1584822238615,
     "user": {
      "displayName": "Alexandra Khlebovich",
      "photoUrl": "https://lh3.googleusercontent.com/a-/AOh14GivMvqD0MMg3IT8E5RqA4m24eL8v7tneE0uVbAxtA=s64",
      "userId": "09477835356418883811"
     },
     "user_tz": -180
    },
    "id": "2XdE_Jlvw6dq",
    "outputId": "454e4779-8462-46b0-87c8-316e4a06d9e5"
   },
   "outputs": [
    {
     "name": "stdout",
     "output_type": "stream",
     "text": [
      "Go to this URL in a browser: https://accounts.google.com/o/oauth2/auth?client_id=947318989803-6bn6qk8qdgf4n4g3pfee6491hc0brc4i.apps.googleusercontent.com&redirect_uri=urn%3aietf%3awg%3aoauth%3a2.0%3aoob&response_type=code&scope=email%20https%3a%2f%2fwww.googleapis.com%2fauth%2fdocs.test%20https%3a%2f%2fwww.googleapis.com%2fauth%2fdrive%20https%3a%2f%2fwww.googleapis.com%2fauth%2fdrive.photos.readonly%20https%3a%2f%2fwww.googleapis.com%2fauth%2fpeopleapi.readonly\n",
      "\n",
      "Enter your authorization code:\n",
      "··········\n",
      "Mounted at /content/drive\n"
     ]
    }
   ],
   "source": [
    "from google.colab import drive\n",
    "drive.mount('/content/drive')"
   ]
  },
  {
   "cell_type": "code",
   "execution_count": null,
   "metadata": {
    "colab": {},
    "colab_type": "code",
    "id": "MkPEi9mlsD6R"
   },
   "outputs": [],
   "source": [
    "from polyglot.detect import Detector\n",
    "import pandas as pd"
   ]
  },
  {
   "cell_type": "code",
   "execution_count": null,
   "metadata": {
    "colab": {},
    "colab_type": "code",
    "id": "KZlM8-7rsImq"
   },
   "outputs": [],
   "source": [
    "with open('/content/drive/My Drive/train-bel.txt', 'r', encoding='utf-8') as fileObject:\n",
    "    text = fileObject.read()"
   ]
  },
  {
   "cell_type": "code",
   "execution_count": null,
   "metadata": {
    "colab": {},
    "colab_type": "code",
    "id": "nTBIk7s4PU-S"
   },
   "outputs": [],
   "source": [
    "l = [t for t in set(text) if not (t.isprintable() or t in '\\n\\t')]\n",
    "\n",
    "for symb in l:\n",
    "    text_1 = text.replace(symb, '')"
   ]
  },
  {
   "cell_type": "code",
   "execution_count": 41,
   "metadata": {
    "colab": {
     "base_uri": "https://localhost:8080/",
     "height": 204
    },
    "colab_type": "code",
    "executionInfo": {
     "elapsed": 25434,
     "status": "ok",
     "timestamp": 1584823041069,
     "user": {
      "displayName": "Alexandra Khlebovich",
      "photoUrl": "https://lh3.googleusercontent.com/a-/AOh14GivMvqD0MMg3IT8E5RqA4m24eL8v7tneE0uVbAxtA=s64",
      "userId": "09477835356418883811"
     },
     "user_tz": -180
    },
    "id": "GqBXFc9PkruW",
    "outputId": "a64f470f-0195-49fd-dfc1-4bd0eec13825"
   },
   "outputs": [
    {
     "data": {
      "text/html": [
       "<div>\n",
       "<style scoped>\n",
       "    .dataframe tbody tr th:only-of-type {\n",
       "        vertical-align: middle;\n",
       "    }\n",
       "\n",
       "    .dataframe tbody tr th {\n",
       "        vertical-align: top;\n",
       "    }\n",
       "\n",
       "    .dataframe thead th {\n",
       "        text-align: right;\n",
       "    }\n",
       "</style>\n",
       "<table border=\"1\" class=\"dataframe\">\n",
       "  <thead>\n",
       "    <tr style=\"text-align: right;\">\n",
       "      <th></th>\n",
       "      <th>text</th>\n",
       "    </tr>\n",
       "  </thead>\n",
       "  <tbody>\n",
       "    <tr>\n",
       "      <th>0</th>\n",
       "      <td>Гэта выклікала ў некаторых дэпутатаў стрэс і х...</td>\n",
       "    </tr>\n",
       "    <tr>\n",
       "      <th>1</th>\n",
       "      <td>У Японіі пачаўся сезон узыходжанняў на святую ...</td>\n",
       "    </tr>\n",
       "    <tr>\n",
       "      <th>2</th>\n",
       "      <td>Алена Гушча, Мінск</td>\n",
       "    </tr>\n",
       "    <tr>\n",
       "      <th>3</th>\n",
       "      <td>«Трэба даць людзям скарыстацца магчымасцю наза...</td>\n",
       "    </tr>\n",
       "    <tr>\n",
       "      <th>4</th>\n",
       "      <td>Старшыня ЦВК заявіла, што ў Цэнтрвыбаркама ням...</td>\n",
       "    </tr>\n",
       "  </tbody>\n",
       "</table>\n",
       "</div>"
      ],
      "text/plain": [
       "                                                text\n",
       "0  Гэта выклікала ў некаторых дэпутатаў стрэс і х...\n",
       "1  У Японіі пачаўся сезон узыходжанняў на святую ...\n",
       "2                                 Алена Гушча, Мінск\n",
       "3  «Трэба даць людзям скарыстацца магчымасцю наза...\n",
       "4  Старшыня ЦВК заявіла, што ў Цэнтрвыбаркама ням..."
      ]
     },
     "execution_count": 41,
     "metadata": {
      "tags": []
     },
     "output_type": "execute_result"
    }
   ],
   "source": [
    "text_table = pd.DataFrame(text_1.split('\\n'), columns=['text'])\n",
    "text_table.head()"
   ]
  },
  {
   "cell_type": "code",
   "execution_count": null,
   "metadata": {
    "colab": {},
    "colab_type": "code",
    "id": "2aa2hutEv9-6"
   },
   "outputs": [],
   "source": [
    "def get_list_lang(t):\n",
    "    try:\n",
    "        detector = Detector(t)\n",
    "        langs = detector.languages\n",
    "        return [lang.name for lang in langs]\n",
    "    except:\n",
    "        return None"
   ]
  },
  {
   "cell_type": "code",
   "execution_count": null,
   "metadata": {
    "colab": {},
    "colab_type": "code",
    "id": "QVeqHZlLESJb"
   },
   "outputs": [],
   "source": [
    "text_table['lang_list'] = text_table.text.map(get_list_lang)"
   ]
  },
  {
   "cell_type": "code",
   "execution_count": null,
   "metadata": {
    "colab": {},
    "colab_type": "code",
    "id": "oWLaqEVRRVwh"
   },
   "outputs": [],
   "source": [
    "text_table['text'] = text.split('\\n')"
   ]
  },
  {
   "cell_type": "code",
   "execution_count": null,
   "metadata": {
    "colab": {},
    "colab_type": "code",
    "id": "gk5EYIFkRcNa"
   },
   "outputs": [],
   "source": [
    "text_table.to_csv('/content/drive/My Drive/table_lang.csv')"
   ]
  }
 ],
 "metadata": {
  "colab": {
   "authorship_tag": "ABX9TyNAkHFaAf4zr6zy1mxhIt+u",
   "collapsed_sections": [],
   "name": "get_lang.ipynb",
   "provenance": [],
   "toc_visible": true
  },
  "kernelspec": {
   "display_name": "Python 3",
   "language": "python",
   "name": "python3"
  },
  "language_info": {
   "codemirror_mode": {
    "name": "ipython",
    "version": 3
   },
   "file_extension": ".py",
   "mimetype": "text/x-python",
   "name": "python",
   "nbconvert_exporter": "python",
   "pygments_lexer": "ipython3",
   "version": "3.7.7"
  }
 },
 "nbformat": 4,
 "nbformat_minor": 4
}
